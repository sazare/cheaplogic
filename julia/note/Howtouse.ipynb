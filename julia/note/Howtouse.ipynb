{
 "cells": [
  {
   "cell_type": "markdown",
   "metadata": {},
   "source": [
    "# How to use cheapproof\n",
    "### 2018/05/26\n",
    "### written by sazare"
   ]
  },
  {
   "cell_type": "code",
   "execution_count": 2,
   "metadata": {},
   "outputs": [
    {
     "name": "stderr",
     "output_type": "stream",
     "text": [
      "\u001b[1m\u001b[33mWARNING: \u001b[39m\u001b[22m\u001b[33mreplacing docs for 'dostepagoal :: Tuple{Any,Any}' in module 'Main'.\u001b[39m\n",
      "\u001b[1m\u001b[33mWARNING: \u001b[39m\u001b[22m\u001b[33mreplacing docs for 'dostep1goals :: Tuple{Any,Any}' in module 'Main'.\u001b[39m\n",
      "\u001b[1m\u001b[33mWARNING: \u001b[39m\u001b[22m\u001b[33mreplacing docs for 'dostepagoal1 :: Tuple{Any,Any}' in module 'Main'.\u001b[39m\n",
      "\u001b[1m\u001b[33mWARNING: \u001b[39m\u001b[22m\u001b[33mreplacing docs for 'dostepgoals1 :: Tuple{Any,Any}' in module 'Main'.\u001b[39m\n",
      "\u001b[1m\u001b[33mWARNING: \u001b[39m\u001b[22m\u001b[33mreplacing docs for 'contradictionsof :: Tuple{Any}' in module 'Main'.\u001b[39m\n",
      "\u001b[1m\u001b[33mWARNING: \u001b[39m\u001b[22m\u001b[33mreplacing docs for 'simpleprover :: Tuple{Any,Any,Any}' in module 'Main'.\u001b[39m\n"
     ]
    },
    {
     "data": {
      "text/plain": [
       "repl (generic function with 1 method)"
      ]
     },
     "execution_count": 2,
     "metadata": {},
     "output_type": "execute_result"
    }
   ],
   "source": [
    "cd(\"..\")\n",
    "include(\"loadall.jl\")"
   ]
  },
  {
   "cell_type": "code",
   "execution_count": 6,
   "metadata": {},
   "outputs": [
    {
     "name": "stderr",
     "output_type": "stream",
     "text": [
      "\u001b[1m\u001b[33mWARNING: \u001b[39m\u001b[22m\u001b[33mreplacing docs for 'ICMPIn :: Union{}' in module 'Main'.\u001b[39m\n",
      "\u001b[1m\u001b[33mWARNING: \u001b[39m\u001b[22m\u001b[33mreplacing docs for 'ICMP :: Union{}' in module 'Main'.\u001b[39m\n",
      "\u001b[1m\u001b[33mWARNING: \u001b[39m\u001b[22m\u001b[33mreplacing docs for 'apply :: Tuple{Array,Number,Array}' in module 'Main'.\u001b[39m\n",
      "\u001b[1m\u001b[33mWARNING: \u001b[39m\u001b[22m\u001b[33mreplacing docs for 'putasubst :: Tuple{Array,Symbol,Union{Expr, Number, Symbol},Array}' in module 'Main'.\u001b[39m\n",
      "\u001b[1m\u001b[33mWARNING: \u001b[39m\u001b[22m\u001b[33mreplacing docs for 'unify1 :: Tuple{Array,Expr,Expr,Array}' in module 'Main'.\u001b[39m\n",
      "\u001b[1m\u001b[33mWARNING: \u001b[39m\u001b[22m\u001b[33mreplacing docs for 'unify :: Tuple{Array,Expr,Expr}' in module 'Main'.\u001b[39m\n",
      "\u001b[1m\u001b[33mWARNING: \u001b[39m\u001b[22m\u001b[33mreplacing docs for 'resolution :: Tuple{Array,Array,Array,Int64,Int64}' in module 'Main'.\u001b[39m\n",
      "\u001b[1m\u001b[33mWARNING: \u001b[39m\u001b[22m\u001b[33mreplacing docs for 'reduction :: Tuple{Array,Array,Int64}' in module 'Main'.\u001b[39m\n",
      "\u001b[1m\u001b[33mWARNING: \u001b[39m\u001b[22m\u001b[33mreplacing docs for 'satisfiable :: Tuple{Array,Array}' in module 'Main'.\u001b[39m\n"
     ]
    },
    {
     "name": "stdout",
     "output_type": "stream",
     "text": [
      "\u001b[1m\u001b[37mTest Summary:  | \u001b[39m\u001b[22m\u001b[1m\u001b[32mPass  \u001b[39m\u001b[22m\u001b[1m\u001b[36mTotal\u001b[39m\u001b[22m\n",
      "vars and const | \u001b[32m  18  \u001b[39m\u001b[36m   18\u001b[39m\n",
      "\u001b[1m\u001b[37mTest Summary: | \u001b[39m\u001b[22m\u001b[1m\u001b[32mPass  \u001b[39m\u001b[22m\u001b[1m\u001b[36mTotal\u001b[39m\u001b[22m\n",
      "inside check  | \u001b[32m   6  \u001b[39m\u001b[36m    6\u001b[39m\n",
      "\u001b[1m\u001b[37mTest Summary:                | \u001b[39m\u001b[22m\u001b[1m\u001b[32mPass  \u001b[39m\u001b[22m\u001b[1m\u001b[36mTotal\u001b[39m\u001b[22m\n",
      "unify0 find a pair unifiable | \u001b[32m  13  \u001b[39m\u001b[36m   13\u001b[39m\n",
      "\u001b[1m\u001b[37mTest Summary: | \u001b[39m\u001b[22m\u001b[1m\u001b[32mPass  \u001b[39m\u001b[22m\u001b[1m\u001b[36mTotal\u001b[39m\u001b[22m\n",
      "unify         | \u001b[32m  20  \u001b[39m\u001b[36m   20\u001b[39m\n",
      "\u001b[1m\u001b[37mTest Summary: | \u001b[39m\u001b[22m\u001b[1m\u001b[32mPass  \u001b[39m\u001b[22m\u001b[1m\u001b[36mTotal\u001b[39m\u001b[22m\n",
      "genvars       | \u001b[32m   3  \u001b[39m\u001b[36m    3\u001b[39m\n",
      "\u001b[1m\u001b[37mTest Summary: | \u001b[39m\u001b[22m\u001b[1m\u001b[32mPass  \u001b[39m\u001b[22m\u001b[1m\u001b[36mTotal\u001b[39m\u001b[22m\n",
      "equalclause   | \u001b[32m   8  \u001b[39m\u001b[36m    8\u001b[39m\n",
      "\u001b[1m\u001b[37mTest Summary:   | \u001b[39m\u001b[22m\u001b[1m\u001b[32mPass  \u001b[39m\u001b[22m\u001b[1m\u001b[36mTotal\u001b[39m\u001b[22m\n",
      "pure resolution | \u001b[32m  11  \u001b[39m\u001b[36m   11\u001b[39m\n",
      "\u001b[1m\u001b[37mTest Summary:   | \u001b[39m\u001b[22m\u001b[1m\u001b[32mPass  \u001b[39m\u001b[22m\u001b[1m\u001b[36mTotal\u001b[39m\u001b[22m\n",
      "real resolution | \u001b[32m   2  \u001b[39m\u001b[36m    2\u001b[39m\n",
      "\u001b[1m\u001b[37mTest Summary: | \u001b[39m\u001b[22m\u001b[1m\u001b[32mPass  \u001b[39m\u001b[22m\u001b[1m\u001b[36mTotal\u001b[39m\u001b[22m\n",
      "reduction     | \u001b[32m   8  \u001b[39m\u001b[36m    8\u001b[39m\n",
      "\u001b[1m\u001b[37mTest Summary: | \u001b[39m\u001b[22m\u001b[1m\u001b[32mPass  \u001b[39m\u001b[22m\u001b[1m\u001b[36mTotal\u001b[39m\u001b[22m\n",
      "satisfiable   | \u001b[32m   5  \u001b[39m\u001b[36m    5\u001b[39m\n",
      "\u001b[1m\u001b[37mTest Summary: | \u001b[39m\u001b[22m\u001b[1m\u001b[32mPass  \u001b[39m\u001b[22m\u001b[1m\u001b[36mTotal\u001b[39m\u001b[22m\n",
      "readablevars  | \u001b[32m   3  \u001b[39m\u001b[36m    3\u001b[39m\n",
      "\u001b[1m\u001b[37mTest Summary: | \u001b[39m\u001b[22m\u001b[1m\u001b[32mPass  \u001b[39m\u001b[22m\u001b[1m\u001b[36mTotal\u001b[39m\u001b[22m\n",
      "reducesub     | \u001b[32m   2  \u001b[39m\u001b[36m    2\u001b[39m\n",
      "\u001b[1m\u001b[37mTest Summary: | \u001b[39m\u001b[22m\u001b[1m\u001b[32mPass  \u001b[39m\u001b[22m\u001b[1m\u001b[36mTotal\u001b[39m\u001b[22m\n",
      "fitvars       | \u001b[32m   2  \u001b[39m\u001b[36m    2\u001b[39m\n",
      "\u001b[1m\u001b[37mTest Summary:    | \u001b[39m\u001b[22m\u001b[1m\u001b[32mPass  \u001b[39m\u001b[22m\u001b[1m\u001b[36mTotal\u001b[39m\u001b[22m\n",
      "compare literals | \u001b[32m   8  \u001b[39m\u001b[36m    8\u001b[39m\n",
      "\u001b[1m\u001b[37mTest Summary: | \u001b[39m\u001b[22m\u001b[1m\u001b[32mPass  \u001b[39m\u001b[22m\u001b[1m\u001b[36mTotal\u001b[39m\u001b[22m\n",
      "sort clause   | \u001b[32m   3  \u001b[39m\u001b[36m    3\u001b[39m\n",
      "\u001b[1m\u001b[37mTest Summary: | \u001b[39m\u001b[22m\u001b[1m\u001b[32mPass  \u001b[39m\u001b[22m\u001b[1m\u001b[36mTotal\u001b[39m\u001b[22m\n",
      "iscap         | \u001b[32m   4  \u001b[39m\u001b[36m    4\u001b[39m\n"
     ]
    },
    {
     "name": "stderr",
     "output_type": "stream",
     "text": [
      "\u001b[1m\u001b[33mWARNING: \u001b[39m\u001b[22m\u001b[33mreplacing docs for 'dostepagoal :: Tuple{Any,Any}' in module 'Main'.\u001b[39m\n",
      "\u001b[1m\u001b[33mWARNING: \u001b[39m\u001b[22m\u001b[33mreplacing docs for 'dostep1goals :: Tuple{Any,Any}' in module 'Main'.\u001b[39m\n",
      "\u001b[1m\u001b[33mWARNING: \u001b[39m\u001b[22m\u001b[33mreplacing docs for 'dostepagoal1 :: Tuple{Any,Any}' in module 'Main'.\u001b[39m\n",
      "\u001b[1m\u001b[33mWARNING: \u001b[39m\u001b[22m\u001b[33mreplacing docs for 'dostepgoals1 :: Tuple{Any,Any}' in module 'Main'.\u001b[39m\n",
      "\u001b[1m\u001b[33mWARNING: \u001b[39m\u001b[22m\u001b[33mreplacing docs for 'contradictionsof :: Tuple{Any}' in module 'Main'.\u001b[39m\n",
      "\u001b[1m\u001b[33mWARNING: \u001b[39m\u001b[22m\u001b[33mreplacing docs for 'simpleprover :: Tuple{Any,Any,Any}' in module 'Main'.\u001b[39m\n"
     ]
    },
    {
     "name": "stdout",
     "output_type": "stream",
     "text": [
      "\u001b[1m\u001b[37mTest Summary:  | \u001b[39m\u001b[22m\u001b[1m\u001b[32mPass  \u001b[39m\u001b[22m\u001b[1m\u001b[36mTotal\u001b[39m\u001b[22m\n",
      "stringtoclause | \u001b[32m   3  \u001b[39m\u001b[36m    3\u001b[39m\n",
      "\u001b[1m\u001b[37mTest Summary: | \u001b[39m\u001b[22m\u001b[1m\u001b[32mPass  \u001b[39m\u001b[22m\u001b[1m\u001b[36mTotal\u001b[39m\u001b[22m\n",
      "id and etc    | \u001b[32m  26  \u001b[39m\u001b[36m   26\u001b[39m\n",
      "readcore fname=IOBuffer(data=UInt8[...], readable=true, writable=false, seekable=true, append=false, size=80, maxsize=Inf, ptr=1, mark=-1)\n",
      "\u001b[1m\u001b[37mTest Summary: | \u001b[39m\u001b[22m\u001b[1m\u001b[32mPass  \u001b[39m\u001b[22m\u001b[1m\u001b[36mTotal\u001b[39m\u001b[22m\n",
      "analyze core  | \u001b[32m  15  \u001b[39m\u001b[36m   15\u001b[39m\n",
      "\u001b[1m\u001b[37mTest Summary: | \u001b[39m\u001b[22m\u001b[1m\u001b[32mPass  \u001b[39m\u001b[22m\u001b[1m\u001b[36mTotal\u001b[39m\u001b[22m\n",
      "core proc     | \u001b[32m   1  \u001b[39m\u001b[36m    1\u001b[39m\n"
     ]
    },
    {
     "name": "stderr",
     "output_type": "stream",
     "text": [
      "\u001b[1m\u001b[33mWARNING: \u001b[39m\u001b[22m\u001b[33mreplacing docs for 'dostepagoal :: Tuple{Any,Any}' in module 'Main'.\u001b[39m\n",
      "\u001b[1m\u001b[33mWARNING: \u001b[39m\u001b[22m\u001b[33mreplacing docs for 'dostep1goals :: Tuple{Any,Any}' in module 'Main'.\u001b[39m\n",
      "\u001b[1m\u001b[33mWARNING: \u001b[39m\u001b[22m\u001b[33mreplacing docs for 'dostepagoal1 :: Tuple{Any,Any}' in module 'Main'.\u001b[39m\n",
      "\u001b[1m\u001b[33mWARNING: \u001b[39m\u001b[22m\u001b[33mreplacing docs for 'dostepgoals1 :: Tuple{Any,Any}' in module 'Main'.\u001b[39m\n",
      "\u001b[1m\u001b[33mWARNING: \u001b[39m\u001b[22m\u001b[33mreplacing docs for 'contradictionsof :: Tuple{Any}' in module 'Main'.\u001b[39m\n",
      "\u001b[1m\u001b[33mWARNING: \u001b[39m\u001b[22m\u001b[33mreplacing docs for 'simpleprover :: Tuple{Any,Any,Any}' in module 'Main'.\u001b[39m\n"
     ]
    },
    {
     "name": "stdout",
     "output_type": "stream",
     "text": [
      "\u001b[1m\u001b[37mTest Summary: | \u001b[39m\u001b[22m\u001b[1m\u001b[32mPass  \u001b[39m\u001b[22m\u001b[1m\u001b[36mTotal\u001b[39m\u001b[22m\n",
      "isid          | \u001b[32m   6  \u001b[39m\u001b[36m    6\u001b[39m\n",
      "\u001b[1m\u001b[37mTest Summary: | \u001b[39m\u001b[22m\u001b[1m\u001b[32mPass  \u001b[39m\u001b[22m\u001b[1m\u001b[36mTotal\u001b[39m\u001b[22m\n",
      "newvar        | \u001b[32m  10  \u001b[39m\u001b[36m   10\u001b[39m\n",
      "\u001b[1m\u001b[37mTest Summary: | \u001b[39m\u001b[22m\u001b[1m\u001b[32mPass  \u001b[39m\u001b[22m\u001b[1m\u001b[36mTotal\u001b[39m\u001b[22m\n",
      "newvarlist    | \u001b[32m   2  \u001b[39m\u001b[36m    2\u001b[39m\n",
      "\u001b[1m\u001b[37mTest Summary:     | \u001b[39m\u001b[22m\u001b[1m\u001b[32mPass  \u001b[39m\u001b[22m\u001b[1m\u001b[36mTotal\u001b[39m\u001b[22m\n",
      "input rename_term | \u001b[32m  10  \u001b[39m\u001b[36m   10\u001b[39m\n",
      "\u001b[1m\u001b[37mTest Summary:         | \u001b[39m\u001b[22m\u001b[1m\u001b[32mPass  \u001b[39m\u001b[22m\u001b[1m\u001b[36mTotal\u001b[39m\u001b[22m\n",
      "resolvent rename_term | \u001b[32m  10  \u001b[39m\u001b[36m   10\u001b[39m\n",
      "\u001b[1m\u001b[37mTest Summary: | \u001b[39m\u001b[22m\u001b[1m\u001b[32mPass  \u001b[39m\u001b[22m\u001b[1m\u001b[36mTotal\u001b[39m\u001b[22m\n",
      "rename_clause | \u001b[32m   3  \u001b[39m\u001b[36m    3\u001b[39m\n",
      "\u001b[1m\u001b[37mTest Summary: | \u001b[39m\u001b[22m\u001b[1m\u001b[32mPass  \u001b[39m\u001b[22m\u001b[1m\u001b[36mTotal\u001b[39m\u001b[22m\n",
      "fitting       | \u001b[32m   8  \u001b[39m\u001b[36m    8\u001b[39m\n",
      "\u001b[1m\u001b[37mTest Summary: | \u001b[39m\u001b[22m\u001b[1m\u001b[32mPass  \u001b[39m\u001b[22m\u001b[1m\u001b[36mTotal\u001b[39m\u001b[22m\n",
      "inverseof     | \u001b[32m   2  \u001b[39m\u001b[36m    2\u001b[39m\n",
      "\u001b[1m\u001b[37mTest Summary: | \u001b[39m\u001b[22m\u001b[1m\u001b[32mPass  \u001b[39m\u001b[22m\u001b[1m\u001b[36mTotal\u001b[39m\u001b[22m\n",
      "rotate        | \u001b[32m   5  \u001b[39m\u001b[36m    5\u001b[39m\n",
      "Symbol[:L1_C1, :L2_R1] is upon is repeated\n",
      "\u001b[1m\u001b[37mTest Summary:       | \u001b[39m\u001b[22m\u001b[1m\u001b[32mPass  \u001b[39m\u001b[22m\u001b[1m\u001b[36mTotal\u001b[39m\u001b[22m\n",
      "findrepeat in proof | \u001b[32m   2  \u001b[39m\u001b[36m    2\u001b[39m\n",
      "\u001b[1m\u001b[37mTest Summary:  | \u001b[39m\u001b[22m\u001b[1m\u001b[32mPass  \u001b[39m\u001b[22m\u001b[1m\u001b[36mTotal\u001b[39m\u001b[22m\n",
      "tokenizer prop | \u001b[32m   6  \u001b[39m\u001b[36m    6\u001b[39m\n",
      "\u001b[1m\u001b[37mTest Summary:  | \u001b[39m\u001b[22m\u001b[1m\u001b[32mPass  \u001b[39m\u001b[22m\u001b[1m\u001b[36mTotal\u001b[39m\u001b[22m\n",
      "tokenizer pred | \u001b[32m   8  \u001b[39m\u001b[36m    8\u001b[39m\n"
     ]
    },
    {
     "data": {
      "text/plain": [
       "Base.Test.DefaultTestSet(\"tokenizer pred\", Any[], 8, false)"
      ]
     },
     "execution_count": 6,
     "metadata": {},
     "output_type": "execute_result"
    }
   ],
   "source": [
    "include(\"testall.jl\")"
   ]
  },
  {
   "cell_type": "code",
   "execution_count": 10,
   "metadata": {},
   "outputs": [
    {
     "name": "stdout",
     "output_type": "stream",
     "text": [
      "data/20Q01.cnf:@ 20 questions sample\n",
      "data/aaa.cnf:@ temporal working: how can i write vars\n",
      "data/bbb.cnf:@ test for <\n",
      "data/ccc.cnf:@ I have functions\n",
      "data/data001.cnf:@ 1st example: const, func and var\n",
      "data/data002.cnf:@ ambiguous equation not refutable\n",
      "data/data003.cnf:@ 1-1-2 pattern: nested function parsed\n",
      "data/data004.cnf:@ test for DVC(1)\n",
      "data/data005.cnf:@ test for DVC(2)\n",
      "data/data006.cnf:@ test for DVC -- not occurs\n",
      "data/data007.cnf:@finally -S double \n",
      "data/data008.cnf:@ have some tautology\n",
      "data/data010.cnf:@ test data for general templates(general)\n",
      "data/data011.cnf:@ test data for general templates(simple combine)\n",
      "data/data012.cnf:@ test data for general templates [-R-R-S-U]\n",
      "data/data013.cnf:@ test data for general templates(Q[]+Q[])\n",
      "data/data014.cnf:@ test data for general templates(-R+R)\n",
      "data/data015.cnf:@ test of evaluation dont work\n",
      "data/data015.cnf:@@ intended 2 proofs\n",
      "data/data016.cnf:@ arity test\n",
      "data/data017.cnf:@ Number test\n",
      "data/data018.cnf:@ test [-P,+P]. OK because the clause doesn't immediately resolved itself.\n",
      "data/data019.cnf:@ 5 proofs\n",
      "data/data020.cnf:@ 5step proof chokuretsu\n",
      "data/data021.cnf:@ order skiped P(a,e) is ok? \n",
      "data/data022.cnf:@ a sample for an exist-var should not be removed\n",
      "data/db1.cnf:@ something like a DB: buy lower and sell higher is a good\n",
      "data/dop001.cnf:@ abstract ml007\n",
      "data/dop001.cnf:@@ 2 proof structures in one\n",
      "data/everyonedie.cnf:@everyone die: get all info from the facts\n",
      "data/friend1.cnf:@ friend world can I prove a theorem from given facts.\n",
      "data/friend1.cnf:@@ when use 3#2, simply find 1 [] and finished(all proofs aren't gotten!!)\n",
      "data/friend1.cnf:@@ #3 is a good neg theorem for my intension. \n",
      "data/friend2.cnf:@ friend world 2 groups\n",
      "data/friend2.cnf:@ from a lesson from friend1\n",
      "data/friend3.cnf:@ friend world qurey with axiom\n",
      "data/friend3.cnf:@@ When the theorem was already in axioms... it is too simple\n",
      "data/friend4.cnf:@ friend world infering\n",
      "data/friend4.cnf:@@ Can I gather all combination of answer?\n",
      "data/friend4.cnf:@@ case a->b->{c,d,e}\n",
      "data/friend41.cnf:@ friend world infering\n",
      "data/friend41.cnf:@@ Can I gather all combination of answer? more complicated than 4.\n",
      "data/friend41.cnf:@@ case a->b->{c,d,e}, but not g,h of #1\n",
      "data/friend5.cnf:@ friend world qurey with axiom\n",
      "data/friend5.cnf:@@ find all cyclic nodes.\n",
      "data/friend6.cnf:@ gather all cycles x<->y\n",
      "data/friend6.cnf:@@ \n",
      "data/friend7.cnf:@ friend law(transendenc)\n",
      "data/friend8.cnf:@ friend law(symmetric)\n",
      "data/friend9.cnf:@ friend law(multi goal) imaginally\n",
      "data/have001.cnf:@ have, give relation, with time\n",
      "data/have002.cnf:@ have, give relation, with time, changed: t2,t0 is a range of time, and any t2 means any one of t2.\n",
      "data/his001.cnf:@ historical tree of something\n",
      "data/his001.cnf:@@ simpleprover didn't do repeat applicaion of an axiom. It is the cause.\n",
      "data/his001.cnf:@@ when no loop check, #10 cause infinite loop...Of cause I don't know infinite.\n",
      "data/his001.cnf:@@ order is checked in to3.cnf, but not been enough.\n",
      "data/his001.cnf:@@ Ancient is defined by Parent, then no proof a->e\n",
      "data/his001.cnf:@@ is defined by Ancient, then many proofs a->e but all proofs seems be insufficient\n",
      "data/his001.cnf:@@ Both can find a->b->c->d\n",
      "data/his001.cnf:@@ but not a->b->c->d->e. \n",
      "data/his001.cnf:@@@ try #1 for too long inference\n",
      "data/his001.cnf:@@@ when #4 without #3, no []\n",
      "data/his001.cnf:@@@ both #3,#4 make many []s, but contains [] dont continue from a to e.\n",
      "data/his001.cnf:@@@@ a->c imply a->e why?\n",
      "data/his001.cnf:@@@@ both may make loop.\n",
      "data/his002.cnf:@ historical tree of something\n",
      "data/his002.cnf:@@ Ancient is defined by Ancient or Parent. It is failed. \n",
      "data/his002.cnf:@@ Because a->b and c->e assure\n",
      "data/id1.cnf:@ identity: \n",
      "data/id2.cnf:@ identity: existance counter example?\n",
      "data/id3.cnf:@ identity: \n",
      "data/id4.cnf:@ identity: imaginaly conjunctive goal\n",
      "data/implya.cnf:@imply affirmative\n",
      "data/implyn.cnf:@imply negative\n",
      "data/kuukai.cnf:@空海は死ぬ\n",
      "data/kuukai2.cnf:@空海は死ぬ 2\n",
      "data/magia.cnf:@ Madoka\n",
      "data/ml001.cnf:@ a trial ML to MP -- nonsence\n",
      "data/ml002.cnf:@ calc image is Party probability\n",
      "data/ml002.cnf:@@ eval action\n",
      "data/ml003.cnf:@ distinguish party or violent\n",
      "data/ml003.cnf:@@ \n",
      "data/ml004.cnf:@ distinguish party or violent\n",
      "data/ml004.cnf:@@ not predicate, but term for distinguish\n",
      "data/ml005.cnf:@ distinguish party or violent\n",
      "data/ml005.cnf:@@ use between() function for '<= & <'\n",
      "data/ml006.cnf:@ distinguish party or violent more complicate than ml005\n",
      "data/ml006.cnf:@@ add final decisions with State,State0, if use 'not comparing', the solution from 'comparing' can't be gotten.\n",
      "data/ml007.cnf:@ distinguish party or violent more complicate than ml005\n",
      "data/ml007.cnf:@@ when only #1 make a solution battle. add one of #2, solution contain battle, but both, only battle2\n",
      "data/ml007.cnf:@@ removed unimportant literals from ml007a.cnf\n",
      "data/ml007a.cnf:@ distinguish party or violent more complicate than ml005\n",
      "data/ml007a.cnf:@@ when only #1 make a solution battle. add one of #2, solution contain battle, but both, only battle2\n",
      "data/ml007a.cnf:@@ cheanged order of axioms from ml007.cnf\n",
      "data/ml007b.cnf:@ distinguish party or violent more complicate than ml005\n",
      "data/ml007b.cnf:@@ when only #1 make a solution battle. add one of #2, solution contain battle, but both, only battle2\n",
      "data/ml007c.cnf:@ distinguish party or violent more complicate than ml005\n",
      "data/ml007c.cnf:@@ when only #1 make a solution battle. add one of #2, solution contain battle, but both, only battle2\n",
      "data/ml008.cnf:@ simplify ml007. party or battle from imaGge prob. added fallen\n",
      "data/ml008.cnf:@@ \n",
      "data/par001.cnf:@ Family definition\n",
      "data/par001.cnf:@@ parallel axioms. should x,x. INTERESTING RESULT.\n",
      "data/par002.cnf:@ F10mily definition\n",
      "data/par002.cnf:@@ p10r10llel 10xioms. should x,x \n",
      "data/pprop001.cnf:@ prop axiom example\n",
      "data/prob00.cnf:@ probablistic logic axioms imaginaly\n",
      "data/prob00.cnf:@@ one way to goal. P or p is not different.\n",
      "data/prob01.cnf:@ probablistic logic axioms imaginaly\n",
      "data/prob01.cnf:@@ I have 2 ways to goal(d). P make only result.\n",
      "data/problogic0.cnf:@ (not valid) simple examples for Probablistic Logic\n",
      "data/prop001.cnf:@ propositional axiom example(2 different type of proofs)\n",
      "data/prop001.cnf:@@ one proof contain -Q,-Q with +Q twice(dont use reduction)\n",
      "data/prop001.cnf:@@ one proof contain not linear ... (no -Q-Q happened)\n",
      "data/ser001.cnf:@ axioms with serial connection\n",
      "data/time.cnf:@ time is comming(intended but not written)\n",
      "data/time2.cnf:@ Madoka world\n",
      "data/time2.cnf:@@ When Mahosyojo becomes Majo\n",
      "data/time3.cnf:@ Madoka world\n",
      "data/time3.cnf:@@ add when the griefseed made of Majo.\n",
      "data/to1.cnf:@ NG total order: simply prove the instance's relation\n",
      "data/to2.cnf:@ NG: total order: a trial\n",
      "data/to3.cnf:@ partial: total order: (a) of to1\n",
      "data/to3.cnf:@@ use evars\n",
      "data/to4.cnf:@ partial: total order: -conj is transition. wff is anded\n"
     ]
    },
    {
     "name": "stderr",
     "output_type": "stream",
     "text": [
      "\u001b[1m\u001b[33mWARNING: \u001b[39m\u001b[22m\u001b[33mspecial characters \"#{}()[]<>|&*?~;\" should now be quoted in commands\u001b[39m\n",
      "Stacktrace:\n",
      " [1] \u001b[1mdepwarn\u001b[22m\u001b[22m\u001b[1m(\u001b[22m\u001b[22m::String, ::Symbol\u001b[1m)\u001b[22m\u001b[22m at \u001b[1m./deprecated.jl:70\u001b[22m\u001b[22m\n",
      " [2] \u001b[1mwarn_shell_special\u001b[22m\u001b[22m\u001b[1m(\u001b[22m\u001b[22m::String\u001b[1m)\u001b[22m\u001b[22m at \u001b[1m./shell.jl:8\u001b[22m\u001b[22m\n",
      " [3] \u001b[1m#shell_parse#236\u001b[22m\u001b[22m\u001b[1m(\u001b[22m\u001b[22m::String, ::Function, ::String, ::Bool\u001b[1m)\u001b[22m\u001b[22m at \u001b[1m./shell.jl:103\u001b[22m\u001b[22m\n",
      " [4] \u001b[1m(::Base.#kw##shell_parse)\u001b[22m\u001b[22m\u001b[1m(\u001b[22m\u001b[22m::Array{Any,1}, ::Base.#shell_parse, ::String, ::Bool\u001b[1m)\u001b[22m\u001b[22m at \u001b[1m./<missing>:0\u001b[22m\u001b[22m (repeats 2 times)\n",
      " [5] \u001b[1m@cmd\u001b[22m\u001b[22m\u001b[1m(\u001b[22m\u001b[22m::ANY\u001b[1m)\u001b[22m\u001b[22m at \u001b[1m./process.jl:796\u001b[22m\u001b[22m\n",
      " [6] \u001b[1minclude_string\u001b[22m\u001b[22m\u001b[1m(\u001b[22m\u001b[22m::String, ::String\u001b[1m)\u001b[22m\u001b[22m at \u001b[1m./loading.jl:515\u001b[22m\u001b[22m\n",
      " [7] \u001b[1minclude_string\u001b[22m\u001b[22m\u001b[1m(\u001b[22m\u001b[22m::Module, ::String, ::String\u001b[1m)\u001b[22m\u001b[22m at \u001b[1m/Users/shin/.julia/v0.6/Compat/src/Compat.jl:407\u001b[22m\u001b[22m\n",
      " [8] \u001b[1mexecute_request\u001b[22m\u001b[22m\u001b[1m(\u001b[22m\u001b[22m::ZMQ.Socket, ::IJulia.Msg\u001b[1m)\u001b[22m\u001b[22m at \u001b[1m/Users/shin/.julia/v0.6/IJulia/src/execute_request.jl:154\u001b[22m\u001b[22m\n",
      " [9] \u001b[1meventloop\u001b[22m\u001b[22m\u001b[1m(\u001b[22m\u001b[22m::ZMQ.Socket\u001b[1m)\u001b[22m\u001b[22m at \u001b[1m/Users/shin/.julia/v0.6/IJulia/src/eventloop.jl:8\u001b[22m\u001b[22m\n",
      " [10] \u001b[1m(::IJulia.##14#17)\u001b[22m\u001b[22m\u001b[1m(\u001b[22m\u001b[22m\u001b[1m)\u001b[22m\u001b[22m at \u001b[1m./task.jl:335\u001b[22m\u001b[22m\n",
      "while loading In[10], in expression starting on line 1\n"
     ]
    }
   ],
   "source": [
    ";grep '^@' data/*.cnf"
   ]
  },
  {
   "cell_type": "markdown",
   "metadata": {},
   "source": [
    "Here try prove data/dop001.cnf\n",
    "as.."
   ]
  },
  {
   "cell_type": "code",
   "execution_count": 17,
   "metadata": {},
   "outputs": [
    {
     "name": "stdout",
     "output_type": "stream",
     "text": [
      "readcore fname=data/dop001.cnf\n",
      "Array{Any,1}[Any[:L6]] => Any[Any[:L2_R1, :L3_R1, :L4_R1], Any[:L11_R2, :L12_R2, :L13_R2], Any[:L18_R3, :L19_R3], Any[:L15_R4, :L16_R4], Any[:L7_R5, :L8_R5]]\n",
      "Valid\n",
      "Any[Any[:L2_R1, :L3_R1, :L4_R1], Any[:L11_R2, :L12_R2, :L13_R2], Any[:L18_R3, :L19_R3], Any[:L15_R4, :L16_R4], Any[:L7_R5, :L8_R5]] => Any[Any[:L3_R6, :L4_R6], Any[:L12_R7, :L13_R7], Any[], Any[]]\n",
      "Valid\n",
      "Any[Any[:L3_R6, :L4_R6], Any[:L12_R7, :L13_R7], Any[], Any[]] => Any[Any[]]\n",
      "Any[Any[]] => Any[]\n",
      "Any[] => Any[]\n",
      "Any[] => Any[]\n",
      "Any[] => Any[]\n",
      "Any[] => Any[]\n",
      "Any[] => Any[]\n",
      "Any[] => Any[]\n"
     ]
    },
    {
     "data": {
      "text/plain": [
       "(Any[:R11, :R9, :R8], CORE(\"data/dop001.cnf\", [8], [12], Dict{Any,Any}(Pair{Any,Any}(:L11_R2, LForm2(:L11_R2, :(-(A(x_C3R2, p1_C3R2))))),Pair{Any,Any}(:L10, LForm2(:L10, :(+(A(a, 0.9))))),Pair{Any,Any}(:L18_R3, LForm2(:L18_R3, :(-(B(x_C5R3, p_C5R3))))),Pair{Any,Any}(:L8_R10, LForm2(:L8_R10, :(-(between2(0.3, p_C6R5R10, 0.6))))),Pair{Any,Any}(:L2, LForm2(:L2, :(-(A(x_C2, p1_C2))))),Pair{Any,Any}(:L11, LForm2(:L11, :(-(A(x_C3, p1_C3))))),Pair{Any,Any}(:L12, LForm2(:L12, :(-(B(x_C3, p2_C3))))),Pair{Any,Any}(:L13_R2, LForm2(:L13_R2, :(-(gt(p2_C3R2, p1_C3R2))))),Pair{Any,Any}(:L1, LForm2(:L1, :(+(B(a, 0.8))))),Pair{Any,Any}(:L13_R7, LForm2(:L13_R7, :(-(gt(p2_C3R2R7, 0.9)))))…), Dict{Any,Any}(Pair{Any,Any}(:C2, VForm2(:C2, Symbol[:x_C2, :p1_C2, :p2_C2])),Pair{Any,Any}(:R4, VForm2(:R4, Symbol[:x_C4R4, :p_C4R4])),Pair{Any,Any}(:R1, VForm2(:R1, Symbol[:x_C2R1, :p1_C2R1, :p2_C2R1])),Pair{Any,Any}(:C8, VForm2(:C8, Any[])),Pair{Any,Any}(:C1, VForm2(:C1, Symbol[:s_C1, :x_C1, :p_C1])),Pair{Any,Any}(:R2, VForm2(:R2, Symbol[:x_C3R2, :p1_C3R2, :p2_C3R2])),Pair{Any,Any}(:R5, VForm2(:R5, Symbol[:x_C6R5, :p_C6R5])),Pair{Any,Any}(:C4, VForm2(:C4, Symbol[:x_C4, :p_C4])),Pair{Any,Any}(:R11, VForm2(:R11, Symbol[:p2_C2R1R6R11])),Pair{Any,Any}(:C5, VForm2(:C5, Symbol[:x_C5, :p_C5]))…), Dict{Any,Any}(Pair{Any,Any}(:C2, Any[:L2, :L3, :L4, :L5]),Pair{Any,Any}(:R4, Any[:L15_R4, :L16_R4]),Pair{Any,Any}(:R1, Any[:L2_R1, :L3_R1, :L4_R1]),Pair{Any,Any}(:C8, Any[:L1]),Pair{Any,Any}(:C1, Any[:L6]),Pair{Any,Any}(:R2, Any[:L11_R2, :L12_R2, :L13_R2]),Pair{Any,Any}(:R5, Any[:L7_R5, :L8_R5]),Pair{Any,Any}(:C4, Any[:L15, :L16, :L17]),Pair{Any,Any}(:R11, Any[]),Pair{Any,Any}(:C5, Any[:L18, :L19, :L20])…), Dict{Any,Any}(Pair{Any,Any}(:L11_R2, :R2),Pair{Any,Any}(:L10, :C7),Pair{Any,Any}(:L18_R3, :R3),Pair{Any,Any}(:L2, :C2),Pair{Any,Any}(:L11, :C3),Pair{Any,Any}(:L12, :C3),Pair{Any,Any}(:L13_R2, :R2),Pair{Any,Any}(:L1, :C8),Pair{Any,Any}(:L13_R7, :R7),Pair{Any,Any}(:L16_R4, :R4)…), Any[:A, :B, :S, :between2, :ge, :gt], Dict{Any,Any}(Pair{Any,Any}(Symbol(\"-between2\"), Any[]),Pair{Any,Any}(Symbol(\"-A\"), Any[Any[:C7, Any[], :L10, Any[]]]),Pair{Any,Any}(Symbol(\"+A\"), Any[Any[:C2, Symbol[:x_C2, :p1_C2, :p2_C2], :L2, Any[:L3, :L4, :L5]], Any[:C3, Symbol[:x_C3, :p1_C3, :p2_C3], :L11, Any[:L12, :L13, :L14]], Any[:C4, Symbol[:x_C4, :p_C4], :L15, Any[:L16, :L17]]]),Pair{Any,Any}(Symbol(\"+between2\"), Any[Any[:C6, Symbol[:x_C6, :p_C6], :L8, Any[:L7, :L9]]]),Pair{Any,Any}(Symbol(\"+S\"), Any[Any[:C1, Symbol[:s_C1, :x_C1, :p_C1], :L6, Any[]]]),Pair{Any,Any}(Symbol(\"-B\"), Any[Any[:C8, Any[], :L1, Any[]]]),Pair{Any,Any}(Symbol(\"-gt\"), Any[]),Pair{Any,Any}(Symbol(\"+B\"), Any[Any[:C3, Symbol[:x_C3, :p1_C3, :p2_C3], :L12, Any[:L11, :L13, :L14]], Any[:C2, Symbol[:x_C2, :p1_C2, :p2_C2], :L3, Any[:L2, :L4, :L5]], Any[:C5, Symbol[:x_C5, :p_C5], :L18, Any[:L19, :L20]], Any[:C6, Symbol[:x_C6, :p_C6], :L7, Any[:L8, :L9]]]),Pair{Any,Any}(Symbol(\"+gt\"), Any[Any[:C3, Symbol[:x_C3, :p1_C3, :p2_C3], :L13, Any[:L11, :L12, :L14]]]),Pair{Any,Any}(Symbol(\"+ge\"), Any[Any[:C5, Symbol[:x_C5, :p_C5], :L19, Any[:L18, :L20]], Any[:C4, Symbol[:x_C4, :p_C4], :L16, Any[:L15, :L17]], Any[:C2, Symbol[:x_C2, :p1_C2, :p2_C2], :L4, Any[:L2, :L3, :L5]]])…), Dict{Any,Any}(Pair{Any,Any}(:R7, STEP(:R7, :L11_R2, :L10, Any[:a, 0.9, :p2_C3R2])),Pair{Any,Any}(:R9, STEP(:R9, :L15_R4, :L10, Any[:a, 0.9])),Pair{Any,Any}(:R6, STEP(:R6, :L2_R1, :L10, Any[:a, 0.9, :p2_C2R1])),Pair{Any,Any}(:R2, STEP(:R2, :L6, :L14, Symbol[:c2, :x_C3, :p2_C3, :x_C3, :p1_C3, :p2_C3])),Pair{Any,Any}(:R5, STEP(:R5, :L6, :L9, Symbol[:d3, :x_C6, :p_C6, :x_C6, :p_C6])),Pair{Any,Any}(:R8, STEP(:R8, :L18_R3, :L1, Any[:a, 0.8])),Pair{Any,Any}(:R4, STEP(:R4, :L6, :L17, Symbol[:d1, :x_C4, :p_C4, :x_C4, :p_C4])),Pair{Any,Any}(:R3, STEP(:R3, :L6, :L20, Symbol[:d2, :x_C5, :p_C5, :x_C5, :p_C5])),Pair{Any,Any}(:R1, STEP(:R1, :L6, :L5, Symbol[:c1, :x_C2, :p2_C2, :x_C2, :p1_C2, :p2_C2])),Pair{Any,Any}(:R11, STEP(:R11, :L3_R6, :L1, Any[:x_C2R1R6, 0.8, :p1_C2R1R6]))…), Any[\"ge(x,y)   = x>=y\", \"gt(x,y)   = x>y\", \"le(x,y)   = x<=y\", \"lt(x,y)   = x<y\", \"eq(x,y)   = x==y\", \"between(x,low,high) = (low<=x && x<high)\", \"between2(low,x,high) = (low<=x && x<high)\", \"times(x,y) = x*y\", \"add(x,y)  = x+y\"]))"
      ]
     },
     "execution_count": 17,
     "metadata": {},
     "output_type": "execute_result"
    }
   ],
   "source": [
    "rdop001,cdop001=simpleprover(\"data/dop001.cnf\",10,10)\n",
    "# parameter 10, 10 means the limit of searching proofs. number of step and number of contradiction.\n",
    "# But not preciese."
   ]
  },
  {
   "cell_type": "markdown",
   "metadata": {},
   "source": [
    "The results are examined as following."
   ]
  },
  {
   "cell_type": "code",
   "execution_count": 18,
   "metadata": {},
   "outputs": [
    {
     "name": "stdout",
     "output_type": "stream",
     "text": [
      "R1=<C1:C2>\n",
      "R6=<R1:C7>\n",
      "R11=<R6:C8>\n",
      "\n",
      "---\n",
      "R3=<C1:C5>\n",
      "R8=<R3:C8>\n",
      "\n",
      "---\n",
      "R4=<C1:C4>\n",
      "R9=<R4:C7>\n",
      "\n",
      "---\n"
     ]
    }
   ],
   "source": [
    "# all proofs propositional level\n",
    "printproofs0(cdop001)"
   ]
  },
  {
   "cell_type": "code",
   "execution_count": 19,
   "metadata": {},
   "outputs": [
    {
     "name": "stdout",
     "output_type": "stream",
     "text": [
      "\n",
      "C1:[s_C1,x_C1,p_C1]. L6.-(S(s_C1, x_C1, p_C1))\n",
      "C2:[x_C2,p1_C2,p2_C2]. L2.-(A(x_C2, p1_C2)), L3.-(B(x_C2, p2_C2)), L4.-(ge(p1_C2, p2_C2)), L5.+(S(c1, x_C2, p2_C2))\n",
      "  <L6:L5>=[s_C1,x_C1,p_C1,x_C2,p1_C2,p2_C2]←[c1,x_C2,p2_C2,x_C2,p1_C2,p2_C2]\n",
      "R1:[x_C2R1,p1_C2R1,p2_C2R1]. L2_R1.-(A(x_C2R1, p1_C2R1)), L3_R1.-(B(x_C2R1, p2_C2R1)), L4_R1.-(ge(p1_C2R1, p2_C2R1))\n",
      "C7:[]. L10.+(A(a, 0.9))\n",
      "  <L2_R1:L10>=[x_C2R1,p1_C2R1,p2_C2R1]←[a,0.9,p2_C2R1]\n",
      "R6:[x_C2R1R6,p2_C2R1R6,p1_C2R1R6]. L3_R6.-(B(a, p2_C2R1R6)), L4_R6.-(ge(0.9, p2_C2R1R6))\n",
      "C8:[]. L1.+(B(a, 0.8))\n",
      "  <L3_R6:L1>=[x_C2R1R6,p2_C2R1R6,p1_C2R1R6]←[x_C2R1R6,0.8,p1_C2R1R6]\n",
      "R11:[p2_C2R1R6R11].□\n",
      "---\n",
      "\n",
      "C1:[s_C1,x_C1,p_C1]. L6.-(S(s_C1, x_C1, p_C1))\n",
      "C5:[x_C5,p_C5]. L18.-(B(x_C5, p_C5)), L19.-(ge(p_C5, 0.6)), L20.+(S(d2, x_C5, p_C5))\n",
      "  <L6:L20>=[s_C1,x_C1,p_C1,x_C5,p_C5]←[d2,x_C5,p_C5,x_C5,p_C5]\n",
      "R3:[x_C5R3,p_C5R3]. L18_R3.-(B(x_C5R3, p_C5R3)), L19_R3.-(ge(p_C5R3, 0.6))\n",
      "C8:[]. L1.+(B(a, 0.8))\n",
      "  <L18_R3:L1>=[x_C5R3,p_C5R3]←[a,0.8]\n",
      "R8:[p_C5R3R8].□\n",
      "---\n",
      "\n",
      "C1:[s_C1,x_C1,p_C1]. L6.-(S(s_C1, x_C1, p_C1))\n",
      "C4:[x_C4,p_C4]. L15.-(A(x_C4, p_C4)), L16.-(ge(p_C4, 0.6)), L17.+(S(d1, x_C4, p_C4))\n",
      "  <L6:L17>=[s_C1,x_C1,p_C1,x_C4,p_C4]←[d1,x_C4,p_C4,x_C4,p_C4]\n",
      "R4:[x_C4R4,p_C4R4]. L15_R4.-(A(x_C4R4, p_C4R4)), L16_R4.-(ge(p_C4R4, 0.6))\n",
      "C7:[]. L10.+(A(a, 0.9))\n",
      "  <L15_R4:L10>=[x_C4R4,p_C4R4]←[a,0.9]\n",
      "R9:[p_C4R4R9].□\n",
      "---\n"
     ]
    }
   ],
   "source": [
    "# all proofs predicatie level\n",
    "printproofs1(cdop001)"
   ]
  },
  {
   "cell_type": "code",
   "execution_count": 13,
   "metadata": {},
   "outputs": [
    {
     "name": "stdout",
     "output_type": "stream",
     "text": [
      "\n",
      "  <L6:L5>=s/c1;p/p2;\n",
      "  <L2_R1:L10>=x/a;p1/0.9;\n",
      "  <L3_R6:L1>=p2/0.8;\n",
      "---\n",
      "\n",
      "  <L6:L17>=s/d1;\n",
      "  <L15_R4:L10>=x/a;p/0.9;\n",
      "---\n",
      "\n",
      "  <L6:L20>=s/d2;\n",
      "  <L18_R3:L1>=x/a;p/0.8;\n",
      "---\n"
     ]
    }
   ],
   "source": [
    "# every mgus of stepwise in the proofs.\n",
    "printmgus(cdop001)"
   ]
  },
  {
   "cell_type": "code",
   "execution_count": 20,
   "metadata": {},
   "outputs": [
    {
     "name": "stdout",
     "output_type": "stream",
     "text": [
      "name = data/dop001.cnf\n",
      "max cid = [8]\n",
      "max rid = [12]\n",
      "Psyms = Any[:A, :B, :S, :between2, :ge, :gt]\n",
      "Proc\n",
      "!ge(x,y)   = x>=y\n",
      "!gt(x,y)   = x>y\n",
      "!le(x,y)   = x<=y\n",
      "!lt(x,y)   = x<y\n",
      "!eq(x,y)   = x==y\n",
      "!between(x,low,high) = (low<=x && x<high)\n",
      "!between2(low,x,high) = (low<=x && x<high)\n",
      "!times(x,y) = x*y\n",
      "!add(x,y)  = x+y\n",
      "\n",
      "CDB\n",
      "C2: VForm2(:C2, Symbol[:x_C2, :p1_C2, :p2_C2])\n",
      "R4: VForm2(:R4, Symbol[:x_C4R4, :p_C4R4])\n",
      "R1: VForm2(:R1, Symbol[:x_C2R1, :p1_C2R1, :p2_C2R1])\n",
      "C8: VForm2(:C8, Any[])\n",
      "C1: VForm2(:C1, Symbol[:s_C1, :x_C1, :p_C1])\n",
      "R2: VForm2(:R2, Symbol[:x_C3R2, :p1_C3R2, :p2_C3R2])\n",
      "R5: VForm2(:R5, Symbol[:x_C6R5, :p_C6R5])\n",
      "C4: VForm2(:C4, Symbol[:x_C4, :p_C4])\n",
      "R11: VForm2(:R11, Symbol[:p2_C2R1R6R11])\n",
      "C5: VForm2(:C5, Symbol[:x_C5, :p_C5])\n",
      "R7: VForm2(:R7, Symbol[:x_C3R2R7, :p2_C3R2R7, :p1_C3R2R7])\n",
      "R9: VForm2(:R9, Symbol[:p_C4R4R9])\n",
      "R3: VForm2(:R3, Symbol[:x_C5R3, :p_C5R3])\n",
      "R6: VForm2(:R6, Symbol[:x_C2R1R6, :p2_C2R1R6, :p1_C2R1R6])\n",
      "C6: VForm2(:C6, Symbol[:x_C6, :p_C6])\n",
      "C7: VForm2(:C7, Any[])\n",
      "C3: VForm2(:C3, Symbol[:x_C3, :p1_C3, :p2_C3])\n",
      "R8: VForm2(:R8, Symbol[:p_C5R3R8])\n",
      "\n",
      "LDB\n",
      "L11_R2: -(A(x_C3R2, p1_C3R2))\n",
      "L10: +(A(a, 0.9))\n",
      "L18_R3: -(B(x_C5R3, p_C5R3))\n",
      "L8_R10: -(between2(0.3, p_C6R5R10, 0.6))\n",
      "L2: -(A(x_C2, p1_C2))\n",
      "L11: -(A(x_C3, p1_C3))\n",
      "L12: -(B(x_C3, p2_C3))\n",
      "L13_R2: -(gt(p2_C3R2, p1_C3R2))\n",
      "L1: +(B(a, 0.8))\n",
      "L13_R7: -(gt(p2_C3R2R7, 0.9))\n",
      "L16_R4: -(ge(p_C4R4, 0.6))\n",
      "L2_R1: -(A(x_C2R1, p1_C2R1))\n",
      "L19: -(ge(p_C5, 0.6))\n",
      "L16: -(ge(p_C4, 0.6))\n",
      "L3_R1: -(B(x_C2R1, p2_C2R1))\n",
      "L12_R2: -(B(x_C3R2, p2_C3R2))\n",
      "L7_R5: -(B(x_C6R5, p_C6R5))\n",
      "L12_R7: -(B(a, p2_C3R2R7))\n",
      "L4: -(ge(p1_C2, p2_C2))\n",
      "L5: +(S(c1, x_C2, p2_C2))\n",
      "L14: +(S(c2, x_C3, p2_C3))\n",
      "L8: -(between2(0.3, p_C6, 0.6))\n",
      "L15_R4: -(A(x_C4R4, p_C4R4))\n",
      "L13: -(gt(p2_C3, p1_C3))\n",
      "L8_R5: -(between2(0.3, p_C6R5, 0.6))\n",
      "L20: +(S(d2, x_C5, p_C5))\n",
      "L17: +(S(d1, x_C4, p_C4))\n",
      "L3_R6: -(B(a, p2_C2R1R6))\n",
      "L4_R6: -(ge(0.9, p2_C2R1R6))\n",
      "L19_R8: -(ge(p_C5R3R8, 0.6))\n",
      "L4_R11: -(ge(0.9, p2_C2R1R6R11))\n",
      "L16_R9: -(ge(p_C4R4R9, 0.6))\n",
      "L13_R12: -(gt(p2_C3R2R7R12, 0.9))\n",
      "L4_R1: -(ge(p1_C2R1, p2_C2R1))\n",
      "L15: -(A(x_C4, p_C4))\n",
      "L6: -(S(s_C1, x_C1, p_C1))\n",
      "L9: +(S(d3, x_C6, p_C6))\n",
      "L3: -(B(x_C2, p2_C2))\n",
      "L19_R3: -(ge(p_C5R3, 0.6))\n",
      "L18: -(B(x_C5, p_C5))\n",
      "L7: -(B(x_C6, p_C6))\n",
      "\n",
      "LCMAP\n",
      "L11_R2=>R2\n",
      "L10=>C7\n",
      "L18_R3=>R3\n",
      "L2=>C2\n",
      "L11=>C3\n",
      "L12=>C3\n",
      "L13_R2=>R2\n",
      "L1=>C8\n",
      "L13_R7=>R7\n",
      "L16_R4=>R4\n",
      "L2_R1=>R1\n",
      "L19=>C5\n",
      "L16=>C4\n",
      "L3_R1=>R1\n",
      "L12_R2=>R2\n",
      "L7_R5=>R5\n",
      "L12_R7=>R7\n",
      "L4=>C2\n",
      "L5=>C2\n",
      "L14=>C3\n",
      "L8=>C6\n",
      "L15_R4=>R4\n",
      "L13=>C3\n",
      "L8_R5=>R5\n",
      "L20=>C5\n",
      "L17=>C4\n",
      "L3_R6=>R6\n",
      "L4_R6=>R6\n",
      "L4_R1=>R1\n",
      "L15=>C4\n",
      "L6=>C1\n",
      "L9=>C6\n",
      "L3=>C2\n",
      "L19_R3=>R3\n",
      "L18=>C5\n",
      "L7=>C6\n",
      "\n",
      "CLMAP\n",
      "C2=>Any[:L2, :L3, :L4, :L5]\n",
      "R4=>Any[:L15_R4, :L16_R4]\n",
      "R1=>Any[:L2_R1, :L3_R1, :L4_R1]\n",
      "C8=>Any[:L1]\n",
      "C1=>Any[:L6]\n",
      "R2=>Any[:L11_R2, :L12_R2, :L13_R2]\n",
      "R5=>Any[:L7_R5, :L8_R5]\n",
      "C4=>Any[:L15, :L16, :L17]\n",
      "R11=>Any[]\n",
      "C5=>Any[:L18, :L19, :L20]\n",
      "R7=>Any[:L12_R7, :L13_R7]\n",
      "R9=>Any[]\n",
      "R3=>Any[:L18_R3, :L19_R3]\n",
      "R6=>Any[:L3_R6, :L4_R6]\n",
      "C6=>Any[:L7, :L8, :L9]\n",
      "C7=>Any[:L10]\n",
      "C3=>Any[:L11, :L12, :L13, :L14]\n",
      "R8=>Any[]\n",
      "\n",
      "TEMPLATE(level0)\n",
      "-between2= \n",
      "-A= +A[](C7)\n",
      "+A= -A[-B-ge+S](C2)*-A[-B-gt+S](C3)*-A[-ge+S](C4)\n",
      "+between2= -between2[-B+S](C6)\n",
      "+S= -S[](C1)\n",
      "-B= +B[](C8)\n",
      "-gt= \n",
      "+B= -B[-A-gt+S](C3)*-B[-A-ge+S](C2)*-B[-ge+S](C5)*-B[-between2+S](C6)\n",
      "+gt= -gt[-A-B+S](C3)\n",
      "+ge= -ge[-B+S](C5)*-ge[-A+S](C4)*-ge[-A-B+S](C2)\n",
      "-S= +S[-A-B-ge](C2)*+S[-A-B-gt](C3)*+S[-B-ge](C5)*+S[-A-ge](C4)*+S[-B-between2](C6)\n",
      "-ge= \n",
      "\n",
      "PROOFS\n",
      "R1:<L6:L5>=[c1,x_C2,p2_C2,x_C2,p1_C2,p2_C2]\n",
      "R11:<L3_R6:L1>=[x_C2R1R6,0.8,p1_C2R1R6]\n",
      "R2:<L6:L14>=[c2,x_C3,p2_C3,x_C3,p1_C3,p2_C3]\n",
      "R3:<L6:L20>=[d2,x_C5,p_C5,x_C5,p_C5]\n",
      "R4:<L6:L17>=[d1,x_C4,p_C4,x_C4,p_C4]\n",
      "R5:<L6:L9>=[d3,x_C6,p_C6,x_C6,p_C6]\n",
      "R6:<L2_R1:L10>=[a,0.9,p2_C2R1]\n",
      "R7:<L11_R2:L10>=[a,0.9,p2_C3R2]\n",
      "R8:<L18_R3:L1>=[a,0.8]\n",
      "R9:<L15_R4:L10>=[a,0.9]\n",
      "\n",
      "-- end of core --\n"
     ]
    }
   ],
   "source": [
    "# detail of core\n",
    "printcore(cdop001)"
   ]
  },
  {
   "cell_type": "markdown",
   "metadata": {},
   "source": [
    "You can run all example as ...\n",
    "```\n",
    "include(\"data/rundata.jl\")\n",
    "```"
   ]
  },
  {
   "cell_type": "markdown",
   "metadata": {},
   "source": [
    "### End of note"
   ]
  },
  {
   "cell_type": "code",
   "execution_count": null,
   "metadata": {},
   "outputs": [],
   "source": []
  }
 ],
 "metadata": {
  "kernelspec": {
   "display_name": "Julia 0.6.0",
   "language": "julia",
   "name": "julia-0.6"
  },
  "language_info": {
   "file_extension": ".jl",
   "mimetype": "application/julia",
   "name": "julia",
   "version": "0.6.0"
  }
 },
 "nbformat": 4,
 "nbformat_minor": 2
}
